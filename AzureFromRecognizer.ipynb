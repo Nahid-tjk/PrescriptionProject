{
 "cells": [
  {
   "cell_type": "code",
   "execution_count": null,
   "metadata": {},
   "outputs": [],
   "source": [
    "!pip3 install azure-cli\n",
    "!pip3 install azure-ai-formrecognizer\n",
    "from azure.ai.formrecognizer import FormRecognizerClient\n",
    "from azure.core.credentials import AzureKeyCredential\n",
    "import os\n",
    "import pandas as pd"
   ]
  },
  {
   "cell_type": "code",
   "execution_count": 21,
   "metadata": {},
   "outputs": [],
   "source": [
    "def get_Azure_credential():\n",
    "    try:\n",
    "        azureKeyCredential = os.environ.get('Azure_Key_Credential')\n",
    "    except Exception as exception:\n",
    "        raise exception\n",
    "    return azureKeyCredential\n",
    "\n",
    "\n",
    "def get_recognized_content(endpoint, azureKeyCredential, document, extractedTextDF):\n",
    "    try:\n",
    "        credential = AzureKeyCredential(azureKeyCredential)  #\"3fd6e3c5269c48959b6074e922a31480\"\n",
    "        client = FormRecognizerClient(endpoint, credential)\n",
    "        #for document in docList:\n",
    "        wrdCnt=0\n",
    "        with open(document, 'rb') as doc:\n",
    "            contentRecognizer = client.begin_recognize_content(doc)\n",
    "            response = contentRecognizer.result()\n",
    "            for content in response:\n",
    "                for line in content.lines:\n",
    "                    for word in line.words:\n",
    "                        wrdCnt+=1\n",
    "                        textDF = pd.DataFrame([(word.text, word.confidence)], columns = 'Text Confidence_score'.split())\n",
    "                        extractedTextDF = extractedTextDF.append(textDF)    \n",
    "                if (content.tables):\n",
    "                    for table in content.tables:\n",
    "                        for cell in table.cells:\n",
    "                            textDF = pd.DataFrame([(cell.text, cell.confidence)], columns = 'Text Confidence_score'.split())\n",
    "                            extractedTextDF = extractedTextDF.append(textDF)      \n",
    "            print(\"Total number of words extracted for document '{}' is {}\".format(document, str(wrdCnt)))                                                 \n",
    "            print('****************************************')      \n",
    "    except Exception as exception:\n",
    "        raise exception\n",
    "    return extractedTextDF               "
   ]
  },
  {
   "cell_type": "code",
   "execution_count": 25,
   "metadata": {},
   "outputs": [
    {
     "name": "stdout",
     "output_type": "stream",
     "text": [
      "Total number of words extracted for document 'SamplePresc.pdf' is 1363\n",
      "****************************************\n"
     ]
    }
   ],
   "source": [
    "endpoint = \"https://mcriformrecognizer.cognitiveservices.azure.com/\"\n",
    "docList = [\"SamplePresc.pdf\"]   # List of all documents needed to be analysed by Azure\n",
    "result= []\n",
    "extractedTextDF = pd.DataFrame()   \n",
    "\n",
    "azureKeyCredential = get_Azure_credential()\n",
    "for document in docList:\n",
    "    extractedTextDF = get_recognized_content(endpoint, azureKeyCredential, document, extractedTextDF) \n",
    "extractedTextDF.to_excel(r'Azureoutput.xlsx',sheet_name='Azure FormRecognizer', index = False)    "
   ]
  },
  {
   "cell_type": "code",
   "execution_count": 26,
   "metadata": {},
   "outputs": [
    {
     "data": {
      "text/html": [
       "<div>\n",
       "<style scoped>\n",
       "    .dataframe tbody tr th:only-of-type {\n",
       "        vertical-align: middle;\n",
       "    }\n",
       "\n",
       "    .dataframe tbody tr th {\n",
       "        vertical-align: top;\n",
       "    }\n",
       "\n",
       "    .dataframe thead th {\n",
       "        text-align: right;\n",
       "    }\n",
       "</style>\n",
       "<table border=\"1\" class=\"dataframe\">\n",
       "  <thead>\n",
       "    <tr style=\"text-align: right;\">\n",
       "      <th></th>\n",
       "      <th>Text</th>\n",
       "      <th>Confidence_score</th>\n",
       "    </tr>\n",
       "  </thead>\n",
       "  <tbody>\n",
       "    <tr>\n",
       "      <th>0</th>\n",
       "      <td>1.</td>\n",
       "      <td>0.717</td>\n",
       "    </tr>\n",
       "    <tr>\n",
       "      <th>0</th>\n",
       "      <td>WRITE</td>\n",
       "      <td>0.762</td>\n",
       "    </tr>\n",
       "    <tr>\n",
       "      <th>0</th>\n",
       "      <td>PATIENT</td>\n",
       "      <td>0.927</td>\n",
       "    </tr>\n",
       "    <tr>\n",
       "      <th>0</th>\n",
       "      <td>DETAILS</td>\n",
       "      <td>0.937</td>\n",
       "    </tr>\n",
       "    <tr>\n",
       "      <th>0</th>\n",
       "      <td>OR</td>\n",
       "      <td>0.941</td>\n",
       "    </tr>\n",
       "  </tbody>\n",
       "</table>\n",
       "</div>"
      ],
      "text/plain": [
       "      Text  Confidence_score\n",
       "0       1.             0.717\n",
       "0    WRITE             0.762\n",
       "0  PATIENT             0.927\n",
       "0  DETAILS             0.937\n",
       "0       OR             0.941"
      ]
     },
     "execution_count": 26,
     "metadata": {},
     "output_type": "execute_result"
    }
   ],
   "source": [
    "extractedTextDF.head()"
   ]
  }
 ],
 "metadata": {
  "kernelspec": {
   "display_name": "Python 3",
   "language": "python",
   "name": "python3"
  },
  "language_info": {
   "codemirror_mode": {
    "name": "ipython",
    "version": 3
   },
   "file_extension": ".py",
   "mimetype": "text/x-python",
   "name": "python",
   "nbconvert_exporter": "python",
   "pygments_lexer": "ipython3",
   "version": "3.8.3"
  }
 },
 "nbformat": 4,
 "nbformat_minor": 4
}
